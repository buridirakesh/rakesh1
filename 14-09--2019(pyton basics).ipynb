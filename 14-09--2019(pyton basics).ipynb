{
 "cells": [
  {
   "cell_type": "markdown",
   "metadata": {},
   "source": [
    "# Q1. check the given year is a leap year or not"
   ]
  },
  {
   "cell_type": "code",
   "execution_count": 3,
   "metadata": {},
   "outputs": [
    {
     "name": "stdout",
     "output_type": "stream",
     "text": [
      "enter the year:2018\n",
      "not leap year\n"
     ]
    }
   ],
   "source": [
    "year=int(input(\"enter the year:\"))\n",
    "if ((year%400==0)or(year%4==0 and year%100!=0)):\n",
    "    print(\" the leap year\")\n",
    "else:\n",
    "    print(\"not leap year\")"
   ]
  },
  {
   "cell_type": "markdown",
   "metadata": {},
   "source": [
    "# Q2 check the number of digits in a given number"
   ]
  },
  {
   "cell_type": "code",
   "execution_count": 6,
   "metadata": {},
   "outputs": [
    {
     "name": "stdout",
     "output_type": "stream",
     "text": [
      "enter the number:1234546\n",
      "number of digits in given number: 7\n"
     ]
    }
   ],
   "source": [
    "number=int(input(\"enter the number:\"))\n",
    "count=0\n",
    "while(number>0):\n",
    "    number=number//10\n",
    "    count=count+1\n",
    "print(\"number of digits in given number:\",count)"
   ]
  },
  {
   "cell_type": "markdown",
   "metadata": {},
   "source": [
    "# Q3 check if the given number is a factor of 1000"
   ]
  },
  {
   "cell_type": "code",
   "execution_count": 9,
   "metadata": {},
   "outputs": [
    {
     "name": "stdout",
     "output_type": "stream",
     "text": [
      "enter the value:100\n",
      "is factor  of 1000  100\n"
     ]
    }
   ],
   "source": [
    "number=int(input(\"enter the value:\"))\n",
    "if 1000%number==0:\n",
    "    print(\"is factor  of 1000 \",number)\n",
    "else:\n",
    "    print(\"is not factor of 1000\",number)"
   ]
  },
  {
   "cell_type": "markdown",
   "metadata": {},
   "source": [
    "# Q4,calculate the square root of a given number"
   ]
  },
  {
   "cell_type": "code",
   "execution_count": 15,
   "metadata": {},
   "outputs": [
    {
     "name": "stdout",
     "output_type": "stream",
     "text": [
      "enter the number:4\n",
      "square root value 2.0\n"
     ]
    }
   ],
   "source": [
    "number=int(input(\"enter the number:\"))\n",
    "squre =number ** 0.5\n",
    "print (\"square root value\",squre)"
   ]
  },
  {
   "cell_type": "markdown",
   "metadata": {},
   "source": [
    "# Q5.check if the number exist in a given range"
   ]
  },
  {
   "cell_type": "code",
   "execution_count": 17,
   "metadata": {},
   "outputs": [
    {
     "name": "stdout",
     "output_type": "stream",
     "text": [
      "enter the number:3\n",
      "enter the range:1\n",
      "enter last range:9\n",
      "3 is in the range\n"
     ]
    }
   ],
   "source": [
    "number=int(input(\"enter the number:\"))\n",
    "start=int(input(\"enter the range:\"))\n",
    "end=int(input(\"enter last range:\"))\n",
    "if(number>=start and number<=end):\n",
    "    print(number,'is in the range')\n",
    "else:\n",
    "    print(number,'is not in range')"
   ]
  },
  {
   "cell_type": "markdown",
   "metadata": {},
   "source": [
    "#  using for loop"
   ]
  },
  {
   "cell_type": "code",
   "execution_count": 20,
   "metadata": {},
   "outputs": [
    {
     "name": "stdout",
     "output_type": "stream",
     "text": [
      "enter the value:4\n",
      "enter value: 2\n",
      "enter value:8\n",
      "in range\n"
     ]
    }
   ],
   "source": [
    "n=int(input(\"enter the value:\"))\n",
    "lower=int(input(\"enter value:\"))\n",
    "upper=int(input(\"enter value:\"))\n",
    "count=0\n",
    "for i in range(lower,upper+1):\n",
    "    if(i==n):\n",
    "        count=count+1\n",
    "if count==1:\n",
    "    print(\"in range\")\n",
    "else:\n",
    "        print(\"n is in range\")"
   ]
  },
  {
   "cell_type": "markdown",
   "metadata": {},
   "source": []
  }
 ],
 "metadata": {
  "kernelspec": {
   "display_name": "Python 3",
   "language": "python",
   "name": "python3"
  },
  "language_info": {
   "codemirror_mode": {
    "name": "ipython",
    "version": 3
   },
   "file_extension": ".py",
   "mimetype": "text/x-python",
   "name": "python",
   "nbconvert_exporter": "python",
   "pygments_lexer": "ipython3",
   "version": "3.7.3"
  }
 },
 "nbformat": 4,
 "nbformat_minor": 2
}
