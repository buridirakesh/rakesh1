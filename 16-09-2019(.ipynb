{
 "cells": [
  {
   "cell_type": "code",
   "execution_count": 9,
   "metadata": {},
   "outputs": [
    {
     "name": "stdout",
     "output_type": "stream",
     "text": [
      "6\n",
      "100\n",
      "6 12 18 24 30 36 42 48 54 60 66 72 78 84 90 96 "
     ]
    }
   ],
   "source": [
    "def factor(lb,ub):\n",
    "    for i in range(lb,ub+1):\n",
    "        if i%6==0 and 100%i!=0:\n",
    "            print(i,end=\" \")\n",
    "lb =int(input())\n",
    "ub =int(input())\n",
    "factor(lb,ub)"
   ]
  },
  {
   "cell_type": "code",
   "execution_count": 3,
   "metadata": {},
   "outputs": [
    {
     "name": "stdout",
     "output_type": "stream",
     "text": [
      "1\n",
      "10\n",
      "avg is: 360.0\n"
     ]
    }
   ],
   "source": [
    "def even(lb,ub):\n",
    "    sum=0\n",
    "    count=0\n",
    "    for i in range(lb,ub+1):\n",
    "        if i%2==0:\n",
    "            n=i**3\n",
    "            sum=sum+n\n",
    "            count=count+1\n",
    "    avg =sum/count\n",
    "    print(\"avg is:\",avg)\n",
    "lb =int(input())\n",
    "ub=int(input())\n",
    "even(lb,ub)\n"
   ]
  },
  {
   "cell_type": "code",
   "execution_count": 4,
   "metadata": {},
   "outputs": [
    {
     "name": "stdout",
     "output_type": "stream",
     "text": [
      "40\n",
      "factor is: 1\n",
      "factor is: 2\n",
      "factor is: 4\n",
      "factor is: 5\n",
      "factor is: 8\n",
      "factor is: 10\n",
      "factor is: 20\n"
     ]
    }
   ],
   "source": [
    "def factor(lb):\n",
    "    for i in range(1,lb):\n",
    "        if lb%i==0:            \n",
    "            print(\"factor is:\",i)\n",
    "lb=int(input())\n",
    "factor(lb)"
   ]
  },
  {
   "cell_type": "code",
   "execution_count": 8,
   "metadata": {},
   "outputs": [
    {
     "name": "stdout",
     "output_type": "stream",
     "text": [
      "5\n",
      "factorial of number is: 120\n"
     ]
    }
   ],
   "source": [
    "def factorial(lb):\n",
    "    fact=1\n",
    "    for i in range(1,lb+1):\n",
    "        fact=fact*i\n",
    "    \n",
    "    print(\"factorial of number is:\",fact)\n",
    "lb=int(input())\n",
    "factorial(lb)"
   ]
  },
  {
   "cell_type": "code",
   "execution_count": 2,
   "metadata": {},
   "outputs": [
    {
     "name": "stdout",
     "output_type": "stream",
     "text": [
      "8\n",
      "not prime number: 8\n"
     ]
    }
   ],
   "source": [
    "def prime(lb):\n",
    "    x=0\n",
    "    for i in range(2,lb):\n",
    "        if lb%i==0:\n",
    "            x=x+1\n",
    "    if x==0:\n",
    "        print(\"prime is :\",lb)\n",
    "    else:\n",
    "        print(\"not prime number:\",lb)\n",
    "lb=int(input())\n",
    "prime(lb)\n",
    "\n",
    "        "
   ]
  },
  {
   "cell_type": "code",
   "execution_count": 14,
   "metadata": {},
   "outputs": [
    {
     "name": "stdout",
     "output_type": "stream",
     "text": [
      "10\n",
      "avg is: 4.25\n"
     ]
    }
   ],
   "source": [
    "def avgprime(ub):\n",
    "    x=0\n",
    "    sum=0\n",
    "    count=0\n",
    "    for i in range(2,ub):\n",
    "        for y in range(2,i):\n",
    "            if i%y==0:\n",
    "                x=x+1\n",
    "        if x==0:\n",
    "            sum=sum+i\n",
    "            count=count+1\n",
    "        x=0\n",
    "    avg=sum/count\n",
    "    print(\"avg is:\",avg)\n",
    "       \n",
    "ub=int(input())\n",
    "avgprime(ub)\n",
    "   \n",
    "    \n",
    "\n",
    "        "
   ]
  },
  {
   "cell_type": "code",
   "execution_count": 12,
   "metadata": {},
   "outputs": [
    {
     "name": "stdout",
     "output_type": "stream",
     "text": [
      "12\n",
      "not perfect: 12\n"
     ]
    }
   ],
   "source": [
    "def perfect(lb):\n",
    "    sum=0\n",
    "    for i in range(1,lb):\n",
    "        if lb%i==0:\n",
    "            sum=sum+i\n",
    "    if sum==lb:\n",
    "        print(\"perfect :\",lb)\n",
    "    else:\n",
    "        print(\"not perfect:\",lb)\n",
    "lb=int(input())\n",
    "perfect(lb)\n",
    "            \n"
   ]
  },
  {
   "cell_type": "code",
   "execution_count": null,
   "metadata": {},
   "outputs": [],
   "source": []
  }
 ],
 "metadata": {
  "kernelspec": {
   "display_name": "Python 3",
   "language": "python",
   "name": "python3"
  },
  "language_info": {
   "codemirror_mode": {
    "name": "ipython",
    "version": 3
   },
   "file_extension": ".py",
   "mimetype": "text/x-python",
   "name": "python",
   "nbconvert_exporter": "python",
   "pygments_lexer": "ipython3",
   "version": "3.7.3"
  }
 },
 "nbformat": 4,
 "nbformat_minor": 2
}
